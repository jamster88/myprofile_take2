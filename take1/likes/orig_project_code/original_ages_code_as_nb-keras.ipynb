{
 "cells": [
  {
   "cell_type": "code",
   "execution_count": 1,
   "id": "7e030b44",
   "metadata": {},
   "outputs": [],
   "source": [
    "import sys\n",
    "import os\n",
    "\n",
    "os.environ[\"KERAS_BACKEND\"] = \"torch\"\n",
    "# os.environ[\"PYTORCH_CUDA_ALLOC_CONF\"]= \"expandable_segments:True\"\n",
    "# os.environ[\"CUDA_VISIBLE_DEVICES\"]=\"0\"\n",
    "\n",
    "import torch\n",
    "# torch.cuda.is_available = lambda : False\n",
    "device = torch.device('cuda' if torch.cuda.is_available() else 'cpu')"
   ]
  },
  {
   "cell_type": "code",
   "execution_count": 2,
   "id": "3c8dc800-ba6c-4114-86a1-9098ee70b7d2",
   "metadata": {},
   "outputs": [
    {
     "data": {
      "text/plain": [
       "device(type='cuda')"
      ]
     },
     "execution_count": 2,
     "metadata": {},
     "output_type": "execute_result"
    }
   ],
   "source": [
    "device"
   ]
  },
  {
   "cell_type": "code",
   "execution_count": 3,
   "id": "ca107524",
   "metadata": {},
   "outputs": [
    {
     "name": "stdout",
     "output_type": "stream",
     "text": [
      "Using PyTorch backend.\n"
     ]
    }
   ],
   "source": [
    "import readline\n",
    "import scipy.sparse\n",
    "import scipy\n",
    "import numpy as np\n",
    "import pandas as pd\n",
    "from sklearn.feature_extraction import DictVectorizer\n",
    "from sklearn.preprocessing import StandardScaler, MinMaxScaler\n",
    "from keras_core.models import Sequential\n",
    "from keras_core.layers import Input, Dense, Dropout, Activation\n",
    "from keras_core.optimizers import RMSprop, Adam, Nadam, Adamax\n",
    "from keras_core.models import model_from_json\n",
    "# import sklearn.external.joblib as extjoblib\n",
    "import joblib"
   ]
  },
  {
   "cell_type": "code",
   "execution_count": 4,
   "id": "02f39952",
   "metadata": {},
   "outputs": [],
   "source": [
    "# Import the 'LIKES' from the training dataset and process\n",
    "###############\n",
    "likes = pd.read_csv(\"/home/jamster/old-repos/ml2018-projectDATA/tcss555/training/relation/relation.csv\")"
   ]
  },
  {
   "cell_type": "code",
   "execution_count": 5,
   "id": "9c1ca714",
   "metadata": {},
   "outputs": [],
   "source": [
    "# likes.head()"
   ]
  },
  {
   "cell_type": "code",
   "execution_count": 6,
   "id": "40fb3829-8683-414f-a5df-df1fb0b8f61a",
   "metadata": {},
   "outputs": [
    {
     "data": {
      "text/plain": [
       "Index(['Unnamed: 0', 'userid', 'like_id'], dtype='object')"
      ]
     },
     "execution_count": 6,
     "metadata": {},
     "output_type": "execute_result"
    }
   ],
   "source": [
    "likes.columns"
   ]
  },
  {
   "cell_type": "code",
   "execution_count": 7,
   "id": "3a35ed10",
   "metadata": {},
   "outputs": [],
   "source": [
    "# Extact individual columns and convert to lists\n",
    "likesUIDs = likes['userid'].values\n",
    "likesLIDs = likes['like_id'].values\n",
    "lsLikesUIDs = likesUIDs.tolist()\n",
    "lsLikesLIDs = likesLIDs.tolist()"
   ]
  },
  {
   "cell_type": "code",
   "execution_count": 8,
   "id": "50585e93",
   "metadata": {},
   "outputs": [],
   "source": [
    "# Convert columns to sets\n",
    "setLikesUIDs = set(lsLikesUIDs)\n",
    "setLikesLIDs = set(lsLikesLIDs)"
   ]
  },
  {
   "cell_type": "code",
   "execution_count": 9,
   "id": "0b2c7c99-2539-4af6-821e-e37826e91fb8",
   "metadata": {},
   "outputs": [],
   "source": [
    "# Convert columns to list of unique items\n",
    "unqLikesUIDs = (list(setLikesUIDs))\n",
    "unqLikesLIDs = (list(setLikesLIDs))"
   ]
  },
  {
   "cell_type": "code",
   "execution_count": 10,
   "id": "259d4348-53cc-4c78-9313-e0e8aad4231f",
   "metadata": {},
   "outputs": [],
   "source": [
    "# Get list of all User IDs (UIDs) paried with the Like IDs (LIDs) of the \n",
    "#   posts the user has liked\n",
    "allLikesLS = [lsLikesUIDs, [str(x) for x in lsLikesLIDs]]\n",
    "allLikesLS = list(map(list, zip(*allLikesLS)))"
   ]
  },
  {
   "cell_type": "code",
   "execution_count": 11,
   "id": "e0b9641e-6c2f-4990-b970-939ccfd49165",
   "metadata": {},
   "outputs": [],
   "source": [
    "# Convert list of UID and LID pairs into a dictionary indexed by UIDs\n",
    "aDictLikes2 = {}\n",
    "for aUID in unqLikesUIDs:\n",
    "\taDictLikes2[aUID]=[]\n",
    "\n",
    "for row in allLikesLS:\n",
    "\taDictLikes2[row[0]].append(row[1])"
   ]
  },
  {
   "cell_type": "code",
   "execution_count": 12,
   "id": "0284345a-7859-4c5f-9a22-0dc130d6e0b0",
   "metadata": {},
   "outputs": [],
   "source": [
    "# Convert into a dictionary (by UIDs) of dictionaries (by LIDs)\n",
    "combDICT = {}\n",
    "for uid in unqLikesUIDs:\n",
    "\ttmpDICT={}\n",
    "\ttmpLS = aDictLikes2[uid]\n",
    "\tfor row in tmpLS:\n",
    "\t\ttmpDICT[str(row)]=1\n",
    "\tcombDICT[uid]=tmpDICT"
   ]
  },
  {
   "cell_type": "code",
   "execution_count": 13,
   "id": "b9ed975d-2b77-4c87-b31f-e6b8d0fe5553",
   "metadata": {},
   "outputs": [],
   "source": [
    "# Convert 'combDICT' into a list of dictionaries (of LIDs)\n",
    "tryTHIS=[]\n",
    "for uid in unqLikesUIDs:\n",
    "\ttryTHIS.append(combDICT[uid])"
   ]
  },
  {
   "cell_type": "code",
   "execution_count": 14,
   "id": "10716796-702c-4867-96d0-f48345accb59",
   "metadata": {},
   "outputs": [],
   "source": [
    "# Vectorize the list of dictionaries in 'tryTHIS' to get the UID/LID matrix \n",
    "#   for the training data\n",
    "v = DictVectorizer()\n",
    "likesMAT=v.fit_transform(tryTHIS)"
   ]
  },
  {
   "cell_type": "code",
   "execution_count": 15,
   "id": "6a7ee0d6-6faf-4860-8e32-8e16129df67c",
   "metadata": {},
   "outputs": [],
   "source": [
    "# Clear unused variable to free memory\n",
    "del globals()['likes']\n",
    "del globals()['likesUIDs']\n",
    "del globals()['likesLIDs']\n",
    "del globals()['lsLikesUIDs']\n",
    "del globals()['lsLikesLIDs']\n",
    "del globals()['setLikesUIDs']\n",
    "del globals()['setLikesLIDs']\n",
    "del globals()['allLikesLS']\n",
    "del globals()['aDictLikes2']\n",
    "del globals()['aUID']\n",
    "del globals()['row']\n",
    "del globals()['combDICT']\n",
    "del globals()['uid']\n",
    "del globals()['tmpDICT']\n",
    "del globals()['tmpLS']\n",
    "del globals()['tryTHIS']\n",
    "del globals()['v']"
   ]
  },
  {
   "cell_type": "code",
   "execution_count": 16,
   "id": "2d7d954e-25b4-4a41-b935-810db7854b37",
   "metadata": {},
   "outputs": [],
   "source": [
    "# Import the profiles from the training dataset\n",
    "###############\n",
    "profilesDF=pd.read_csv(\"/home/jamster/old-repos/ml2018-projectDATA/tcss555/training/profile/profile.csv\")\n",
    "\n",
    "# profilesDF.head()"
   ]
  },
  {
   "cell_type": "code",
   "execution_count": 17,
   "id": "a6d84afc-d6cc-45bc-b4f6-8129ca7f657f",
   "metadata": {},
   "outputs": [
    {
     "data": {
      "text/plain": [
       "Index(['Unnamed: 0', 'userid', 'age', 'gender', 'ope', 'con', 'ext', 'agr',\n",
       "       'neu'],\n",
       "      dtype='object')"
      ]
     },
     "execution_count": 17,
     "metadata": {},
     "output_type": "execute_result"
    }
   ],
   "source": [
    "profilesDF.columns"
   ]
  },
  {
   "cell_type": "code",
   "execution_count": 18,
   "id": "f6e7b349-e9fe-4af2-baba-e1c11a0ac68f",
   "metadata": {},
   "outputs": [],
   "source": [
    "# Get the values of the relevant columns and convert them to a list\n",
    "profiles=profilesDF[['userid', 'age', 'gender', 'ope', 'con', 'ext', 'agr', 'neu']].values.copy()\n",
    "profilesLSo=profiles.tolist().copy()"
   ]
  },
  {
   "cell_type": "code",
   "execution_count": 19,
   "id": "635f8d9d-b614-45d9-9267-c26e9b80a31f",
   "metadata": {},
   "outputs": [],
   "source": [
    "# Categorize the ages\n",
    "profilesLS=[]\n",
    "for row in profilesLSo:\n",
    "\ttmpLS=row\n",
    "\ttmpAGE=row[1]\n",
    "\n",
    "\tif tmpAGE < 25:\n",
    "\t\ttmpLS[1]=1\n",
    "\telif tmpAGE < 35:\n",
    "\t\ttmpLS[1]=2\n",
    "\telif tmpAGE < 50:\n",
    "\t\ttmpLS[1]=3\n",
    "\telse:\n",
    "\t\ttmpLS[1]=4\n",
    "\n",
    "\tprofilesLS.append(tmpLS)"
   ]
  },
  {
   "cell_type": "code",
   "execution_count": 20,
   "id": "9f8bbb0a-a393-410b-b09e-986caa68dd32",
   "metadata": {},
   "outputs": [],
   "source": [
    "# Align the profiles data with the indexing of the likes data\n",
    "profsTOlikes=[]\n",
    "for i in range(len(profilesLS)):\n",
    "\tprofsTOlikes.append([])\n",
    "\n",
    "for row in profilesLS:\n",
    "\ttmpIND = unqLikesUIDs.index(row[0])\n",
    "\tprofsTOlikes[tmpIND]=row\n",
    "\n",
    "profsTOlikes1=list(map(list, zip(*profsTOlikes)))"
   ]
  },
  {
   "cell_type": "code",
   "execution_count": 21,
   "id": "b17e2d38-6299-4511-9c2f-abef47286b64",
   "metadata": {},
   "outputs": [],
   "source": [
    "# Extract Data for AGEs\n",
    "agesARRo=np.array(profsTOlikes1[1])\n",
    "agesARRo=agesARRo.tolist()"
   ]
  },
  {
   "cell_type": "code",
   "execution_count": 22,
   "id": "68b035a8-ddb0-4a37-b139-4a547bc02696",
   "metadata": {},
   "outputs": [],
   "source": [
    "# Convert data for AGEs to binary vectors\n",
    "agesARR = []\n",
    "for row in agesARRo:\n",
    "\tif row==1:\n",
    "\t\tagesARR.append([1,0,0,0])\n",
    "\telif row==2:\n",
    "\t\tagesARR.append([0,1,0,0])\n",
    "\telif row==3:\n",
    "\t\tagesARR.append([0,0,1,0])\n",
    "\telse:\n",
    "\t\tagesARR.append([0,0,0,1])\n",
    "\n",
    "agesARR=np.array(agesARR)"
   ]
  },
  {
   "cell_type": "code",
   "execution_count": 23,
   "id": "592ebe3a-dfcf-4fd2-b6b6-9fbe4b73831f",
   "metadata": {},
   "outputs": [],
   "source": [
    "# Clear MORE unused variable to free memory\n",
    "del globals()['unqLikesUIDs']\n",
    "del globals()['unqLikesLIDs']\n",
    "del globals()['profilesDF']\n",
    "del globals()['profiles']\n",
    "del globals()['profilesLSo']\n",
    "del globals()['profilesLS']\n",
    "del globals()['row']\n",
    "del globals()['tmpLS']\n",
    "del globals()['tmpAGE']\n",
    "del globals()['profsTOlikes']\n",
    "del globals()['i']\n",
    "del globals()['tmpIND']"
   ]
  },
  {
   "cell_type": "code",
   "execution_count": 24,
   "id": "2a0ccbcc-dfa4-477f-816e-c25bf7d79482",
   "metadata": {},
   "outputs": [
    {
     "data": {
      "text/plain": [
       "device(type='cpu')"
      ]
     },
     "execution_count": 24,
     "metadata": {},
     "output_type": "execute_result"
    }
   ],
   "source": [
    "import torch\n",
    "\n",
    "torch.get_default_device()"
   ]
  },
  {
   "cell_type": "code",
   "execution_count": 25,
   "id": "50b9d791-214b-4125-95bb-851a68845833",
   "metadata": {},
   "outputs": [],
   "source": [
    "# torch.cuda.set_device=\"cpu\"\n",
    "torch.cuda.set_device=0"
   ]
  },
  {
   "cell_type": "code",
   "execution_count": null,
   "id": "6f58c4d7-5cf7-4a26-93ae-a84dfa75eef7",
   "metadata": {},
   "outputs": [
    {
     "name": "stdout",
     "output_type": "stream",
     "text": [
      "start training\n",
      "Epoch 1/10\n"
     ]
    }
   ],
   "source": [
    "# Training Model\n",
    "###############\n",
    "print(\"start training\")\n",
    "\n",
    "numInputs = 750 # Number of nodes to map inputs\n",
    "\n",
    "model = Sequential()\n",
    "# model.add(Input(likesMAT.shape))\n",
    "model.add(Dense(int(numInputs*1.5),\n",
    "\t\t\t\tinput_dim=int(likesMAT.shape[1]),\n",
    "\t\t\t\tactivation='relu'))\n",
    "model.add(Dropout(0.25))\n",
    "model.add(Dense((numInputs*2),\n",
    "\t\t\t\tactivation='softmax'))\n",
    "model.add(Dropout(0.375))\n",
    "model.add(Dense(int(numInputs*1.5),\n",
    "\t\t\t\tactivation='sigmoid'))\n",
    "model.add(Dropout(0.25))\n",
    "model.add(Dense(numInputs,\n",
    "\t\t\t\tactivation='relu'))\n",
    "model.add(Dense(4, activation='softmax'))\n",
    "\n",
    "model.compile(optimizer='adam',\n",
    "\t\t\t\tloss='categorical_crossentropy',\n",
    "\t\t\t\tmetrics=['accuracy', 'mse'])\n",
    "\n",
    "model.fit(likesMAT.todense(), agesARR, epochs=10)\n",
    "\n",
    "print(\"end training\")"
   ]
  },
  {
   "cell_type": "code",
   "execution_count": null,
   "id": "8316420c-eaa3-4421-ac15-525bea899750",
   "metadata": {},
   "outputs": [],
   "source": []
  }
 ],
 "metadata": {
  "kernelspec": {
   "display_name": "keras_torch",
   "language": "python",
   "name": "keras_torch"
  },
  "language_info": {
   "codemirror_mode": {
    "name": "ipython",
    "version": 3
   },
   "file_extension": ".py",
   "mimetype": "text/x-python",
   "name": "python",
   "nbconvert_exporter": "python",
   "pygments_lexer": "ipython3",
   "version": "3.11.2"
  }
 },
 "nbformat": 4,
 "nbformat_minor": 5
}
