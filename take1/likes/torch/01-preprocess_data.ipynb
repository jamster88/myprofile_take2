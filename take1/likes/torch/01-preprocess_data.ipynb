{
 "cells": [
  {
   "cell_type": "code",
   "execution_count": 1,
   "id": "f374a0ec-c4b1-46a1-9f21-eca66fdc11f9",
   "metadata": {},
   "outputs": [],
   "source": [
    "import numpy as np\n",
    "import pandas as pd\n",
    "from sklearn.feature_extraction import DictVectorizer\n",
    "import pickle"
   ]
  },
  {
   "cell_type": "markdown",
   "id": "c76ca1b0-c7ca-48ec-acb1-46b1b548ce7e",
   "metadata": {},
   "source": [
    "## 01 - Preprocess the data\n",
    "\n",
    "* Likes Data\n",
    "* Profile Data"
   ]
  },
  {
   "cell_type": "markdown",
   "id": "804a373a-1afa-4443-b79f-a0861ca4da09",
   "metadata": {},
   "source": [
    "### 1.1) - Import the 'LIKES' from the training dataset and process\n",
    "\n",
    "Import the \"likes\" data"
   ]
  },
  {
   "cell_type": "code",
   "execution_count": 2,
   "id": "bcab3b28-2b5c-4e55-bde5-b98d35eb21eb",
   "metadata": {},
   "outputs": [
    {
     "data": {
      "text/html": [
       "<div>\n",
       "<style scoped>\n",
       "    .dataframe tbody tr th:only-of-type {\n",
       "        vertical-align: middle;\n",
       "    }\n",
       "\n",
       "    .dataframe tbody tr th {\n",
       "        vertical-align: top;\n",
       "    }\n",
       "\n",
       "    .dataframe thead th {\n",
       "        text-align: right;\n",
       "    }\n",
       "</style>\n",
       "<table border=\"1\" class=\"dataframe\">\n",
       "  <thead>\n",
       "    <tr style=\"text-align: right;\">\n",
       "      <th></th>\n",
       "      <th>userid</th>\n",
       "      <th>like_id</th>\n",
       "    </tr>\n",
       "    <tr>\n",
       "      <th>data_id</th>\n",
       "      <th></th>\n",
       "      <th></th>\n",
       "    </tr>\n",
       "  </thead>\n",
       "  <tbody>\n",
       "    <tr>\n",
       "      <th>0</th>\n",
       "      <td>c6a9a43058c8cc8398ca6e97324c0fae</td>\n",
       "      <td>8628204013</td>\n",
       "    </tr>\n",
       "    <tr>\n",
       "      <th>1</th>\n",
       "      <td>c6a9a43058c8cc8398ca6e97324c0fae</td>\n",
       "      <td>19040608370</td>\n",
       "    </tr>\n",
       "    <tr>\n",
       "      <th>2</th>\n",
       "      <td>c6a9a43058c8cc8398ca6e97324c0fae</td>\n",
       "      <td>24054583527</td>\n",
       "    </tr>\n",
       "    <tr>\n",
       "      <th>3</th>\n",
       "      <td>c6a9a43058c8cc8398ca6e97324c0fae</td>\n",
       "      <td>26726417043</td>\n",
       "    </tr>\n",
       "    <tr>\n",
       "      <th>4</th>\n",
       "      <td>c6a9a43058c8cc8398ca6e97324c0fae</td>\n",
       "      <td>31796936730</td>\n",
       "    </tr>\n",
       "  </tbody>\n",
       "</table>\n",
       "</div>"
      ],
      "text/plain": [
       "                                   userid      like_id\n",
       "data_id                                               \n",
       "0        c6a9a43058c8cc8398ca6e97324c0fae   8628204013\n",
       "1        c6a9a43058c8cc8398ca6e97324c0fae  19040608370\n",
       "2        c6a9a43058c8cc8398ca6e97324c0fae  24054583527\n",
       "3        c6a9a43058c8cc8398ca6e97324c0fae  26726417043\n",
       "4        c6a9a43058c8cc8398ca6e97324c0fae  31796936730"
      ]
     },
     "execution_count": 2,
     "metadata": {},
     "output_type": "execute_result"
    }
   ],
   "source": [
    "likes = pd.read_csv(\"/home/jamster/old-repos/ml2018-projectDATA/tcss555/training/relation/relation.csv\")\n",
    "likes = likes.rename(columns={'Unnamed: 0': \"data_id\"}).set_index(\"data_id\")\n",
    "likes.head()"
   ]
  },
  {
   "cell_type": "markdown",
   "id": "63a29762-9647-4a45-ac13-c36c53d28131",
   "metadata": {},
   "source": [
    "Extact individual columns and convert to lists"
   ]
  },
  {
   "cell_type": "code",
   "execution_count": 3,
   "id": "1b89a2ad-d362-43a8-9527-642bf55f1b14",
   "metadata": {},
   "outputs": [],
   "source": [
    "likesUIDs = likes['userid'].values\n",
    "likesLIDs = likes['like_id'].values\n",
    "lsLikesUIDs = likesUIDs.tolist()\n",
    "lsLikesLIDs = likesLIDs.tolist()"
   ]
  },
  {
   "cell_type": "markdown",
   "id": "1fdf5136-060a-47b7-98fd-0031f832b40c",
   "metadata": {},
   "source": [
    "Convert columns to sets"
   ]
  },
  {
   "cell_type": "code",
   "execution_count": 4,
   "id": "8015c6b4-93d3-47bd-819f-1afcfd54ce89",
   "metadata": {},
   "outputs": [],
   "source": [
    "setLikesUIDs = set(lsLikesUIDs)\n",
    "setLikesLIDs = set(lsLikesLIDs)"
   ]
  },
  {
   "cell_type": "markdown",
   "id": "3276f33e-1480-4caf-b398-d86bd767dd09",
   "metadata": {},
   "source": [
    "Convert columns to list of unique items"
   ]
  },
  {
   "cell_type": "code",
   "execution_count": 5,
   "id": "eac8d8d5-79f1-4182-8535-f9bbc07d4355",
   "metadata": {},
   "outputs": [],
   "source": [
    "unqLikesUIDs = (list(setLikesUIDs))\n",
    "unqLikesLIDs = (list(setLikesLIDs))"
   ]
  },
  {
   "cell_type": "markdown",
   "id": "a694ae40-0bc4-4dec-af6d-b663131ae6f8",
   "metadata": {},
   "source": [
    "Get list of all User IDs (UIDs) paried with the Like IDs (LIDs) of the posts the user has liked"
   ]
  },
  {
   "cell_type": "code",
   "execution_count": 6,
   "id": "2a8fa3d3-1736-4abd-b975-410bb0b382e3",
   "metadata": {},
   "outputs": [],
   "source": [
    "allLikesLS = [lsLikesUIDs, [str(x) for x in lsLikesLIDs]]\n",
    "allLikesLS = list(map(list, zip(*allLikesLS)))"
   ]
  },
  {
   "cell_type": "markdown",
   "id": "71116509-3f83-4848-8f01-4322aa217804",
   "metadata": {},
   "source": [
    "Convert list of UID and LID pairs into a dictionary indexed by UIDs"
   ]
  },
  {
   "cell_type": "code",
   "execution_count": 7,
   "id": "bf6ec1e1-4e8b-4c3b-a053-15ff3b84096a",
   "metadata": {},
   "outputs": [],
   "source": [
    "aDictLikes2 = {}\n",
    "for aUID in unqLikesUIDs:\n",
    "\taDictLikes2[aUID]=[]\n",
    "\n",
    "for row in allLikesLS:\n",
    "\taDictLikes2[row[0]].append(row[1])"
   ]
  },
  {
   "cell_type": "markdown",
   "id": "39f9f45f-f559-48c4-a05d-2a495308a470",
   "metadata": {},
   "source": [
    "Convert into a dictionary (by UIDs) of dictionaries (by LIDs)"
   ]
  },
  {
   "cell_type": "code",
   "execution_count": 8,
   "id": "251221c5-34c0-46de-bc49-4b387f8dd118",
   "metadata": {},
   "outputs": [],
   "source": [
    "combDICT = {}\n",
    "for uid in unqLikesUIDs:\n",
    "\ttmpDICT={}\n",
    "\ttmpLS = aDictLikes2[uid]\n",
    "\tfor row in tmpLS:\n",
    "\t\ttmpDICT[str(row)]=1\n",
    "\tcombDICT[uid]=tmpDICT"
   ]
  },
  {
   "cell_type": "markdown",
   "id": "a95befb8-1f1b-42b7-8e7e-33473b224596",
   "metadata": {},
   "source": [
    "Convert 'combDICT' into a list of dictionaries (of LIDs)"
   ]
  },
  {
   "cell_type": "code",
   "execution_count": 9,
   "id": "55501fef-15c7-45c9-89e4-11f9a6b7e81d",
   "metadata": {},
   "outputs": [],
   "source": [
    "tryTHIS=[]\n",
    "for uid in unqLikesUIDs:\n",
    "\ttryTHIS.append(combDICT[uid])"
   ]
  },
  {
   "cell_type": "markdown",
   "id": "24ed9ba3-1a69-4d97-9d5f-1dbfaa527a61",
   "metadata": {},
   "source": [
    "Vectorize the list of dictionaries in 'tryTHIS' to get the UID/LID matrix for the training data"
   ]
  },
  {
   "cell_type": "code",
   "execution_count": 10,
   "id": "483c9a1d-0586-4619-a7bc-c18128d99646",
   "metadata": {},
   "outputs": [],
   "source": [
    "v = DictVectorizer()\n",
    "likesMAT=v.fit_transform(tryTHIS)"
   ]
  },
  {
   "cell_type": "markdown",
   "id": "387f5c6a-76cd-4f21-bd44-318aff1b0ebd",
   "metadata": {},
   "source": [
    "Export transformed likes data"
   ]
  },
  {
   "cell_type": "code",
   "execution_count": 11,
   "id": "9410cd75-d519-4bb7-9280-80677a3b04ca",
   "metadata": {},
   "outputs": [],
   "source": [
    "pickle.dump(likesMAT, open(\"likesMAT.pkl\",\"wb\"))"
   ]
  },
  {
   "cell_type": "markdown",
   "id": "30e682f1-d183-401d-a8d4-e9f9b3bc2958",
   "metadata": {},
   "source": [
    "### 1.2) - Import the profiles from the training dataset and process\n",
    "\n",
    "For the profile aspects:\n",
    "\n",
    "* ages\n",
    "* sexes\n",
    "* psychological traits\n",
    "\n",
    "With the psychological traits being:\n",
    "* openness (*ope*)\n",
    "* concienciousness (*con*)\n",
    "* ??? (*ext*)\n",
    "* agreeableness (*agr*)\n",
    "* neutrality (*neu*)\n",
    "\n",
    "Import the profiles data"
   ]
  },
  {
   "cell_type": "code",
   "execution_count": 12,
   "id": "bcab328b-24f0-434f-b3c1-b8eead9021b4",
   "metadata": {},
   "outputs": [
    {
     "data": {
      "text/html": [
       "<div>\n",
       "<style scoped>\n",
       "    .dataframe tbody tr th:only-of-type {\n",
       "        vertical-align: middle;\n",
       "    }\n",
       "\n",
       "    .dataframe tbody tr th {\n",
       "        vertical-align: top;\n",
       "    }\n",
       "\n",
       "    .dataframe thead th {\n",
       "        text-align: right;\n",
       "    }\n",
       "</style>\n",
       "<table border=\"1\" class=\"dataframe\">\n",
       "  <thead>\n",
       "    <tr style=\"text-align: right;\">\n",
       "      <th></th>\n",
       "      <th>userid</th>\n",
       "      <th>age</th>\n",
       "      <th>gender</th>\n",
       "      <th>ope</th>\n",
       "      <th>con</th>\n",
       "      <th>ext</th>\n",
       "      <th>agr</th>\n",
       "      <th>neu</th>\n",
       "    </tr>\n",
       "    <tr>\n",
       "      <th>data_id</th>\n",
       "      <th></th>\n",
       "      <th></th>\n",
       "      <th></th>\n",
       "      <th></th>\n",
       "      <th></th>\n",
       "      <th></th>\n",
       "      <th></th>\n",
       "      <th></th>\n",
       "    </tr>\n",
       "  </thead>\n",
       "  <tbody>\n",
       "    <tr>\n",
       "      <th>0</th>\n",
       "      <td>7267f43c71fcf53f4580fd3cd808bd48</td>\n",
       "      <td>26.0</td>\n",
       "      <td>0.0</td>\n",
       "      <td>4.00</td>\n",
       "      <td>2.25</td>\n",
       "      <td>2.20</td>\n",
       "      <td>3.60</td>\n",
       "      <td>2.80</td>\n",
       "    </tr>\n",
       "    <tr>\n",
       "      <th>1</th>\n",
       "      <td>e1cdac10d136e76e064e4860007d786d</td>\n",
       "      <td>24.0</td>\n",
       "      <td>0.0</td>\n",
       "      <td>4.20</td>\n",
       "      <td>3.35</td>\n",
       "      <td>2.45</td>\n",
       "      <td>3.90</td>\n",
       "      <td>2.60</td>\n",
       "    </tr>\n",
       "    <tr>\n",
       "      <th>2</th>\n",
       "      <td>ea4b8b534a35f59713f61f29b8725d09</td>\n",
       "      <td>27.0</td>\n",
       "      <td>1.0</td>\n",
       "      <td>2.75</td>\n",
       "      <td>4.80</td>\n",
       "      <td>3.15</td>\n",
       "      <td>3.85</td>\n",
       "      <td>4.15</td>\n",
       "    </tr>\n",
       "    <tr>\n",
       "      <th>3</th>\n",
       "      <td>c7bb07b4b9ccd28cd0bc285194da5c72</td>\n",
       "      <td>29.0</td>\n",
       "      <td>1.0</td>\n",
       "      <td>3.40</td>\n",
       "      <td>3.20</td>\n",
       "      <td>2.10</td>\n",
       "      <td>3.70</td>\n",
       "      <td>2.35</td>\n",
       "    </tr>\n",
       "    <tr>\n",
       "      <th>4</th>\n",
       "      <td>e8b8f7f4f40ea6babfa9a2a967ff1866</td>\n",
       "      <td>25.0</td>\n",
       "      <td>0.0</td>\n",
       "      <td>4.40</td>\n",
       "      <td>3.25</td>\n",
       "      <td>4.00</td>\n",
       "      <td>2.89</td>\n",
       "      <td>2.35</td>\n",
       "    </tr>\n",
       "  </tbody>\n",
       "</table>\n",
       "</div>"
      ],
      "text/plain": [
       "                                   userid   age  gender   ope   con   ext  \\\n",
       "data_id                                                                     \n",
       "0        7267f43c71fcf53f4580fd3cd808bd48  26.0     0.0  4.00  2.25  2.20   \n",
       "1        e1cdac10d136e76e064e4860007d786d  24.0     0.0  4.20  3.35  2.45   \n",
       "2        ea4b8b534a35f59713f61f29b8725d09  27.0     1.0  2.75  4.80  3.15   \n",
       "3        c7bb07b4b9ccd28cd0bc285194da5c72  29.0     1.0  3.40  3.20  2.10   \n",
       "4        e8b8f7f4f40ea6babfa9a2a967ff1866  25.0     0.0  4.40  3.25  4.00   \n",
       "\n",
       "          agr   neu  \n",
       "data_id              \n",
       "0        3.60  2.80  \n",
       "1        3.90  2.60  \n",
       "2        3.85  4.15  \n",
       "3        3.70  2.35  \n",
       "4        2.89  2.35  "
      ]
     },
     "execution_count": 12,
     "metadata": {},
     "output_type": "execute_result"
    }
   ],
   "source": [
    "profilesDF=pd.read_csv(\"/home/jamster/old-repos/ml2018-projectDATA/tcss555/training/profile/profile.csv\")\n",
    "profilesDF = profilesDF.rename(columns={\"Unnamed: 0\": \"data_id\"}).set_index(\"data_id\")\n",
    "profilesDF.head()"
   ]
  },
  {
   "cell_type": "markdown",
   "id": "369ac8dd-8584-44fb-9d04-d65fa483c7d0",
   "metadata": {},
   "source": [
    "Get the values of the relevant columns and convert them to a list"
   ]
  },
  {
   "cell_type": "code",
   "execution_count": 13,
   "id": "bc7faa49-d526-49ed-91e0-acbca6babf63",
   "metadata": {},
   "outputs": [],
   "source": [
    "profiles=profilesDF[['userid', 'age', 'gender', 'ope', 'con', 'ext', 'agr', 'neu']].values.copy()\n",
    "profilesLSo=profiles.tolist().copy()"
   ]
  },
  {
   "cell_type": "markdown",
   "id": "23d24335-760d-4e83-9cc7-c41623138464",
   "metadata": {},
   "source": [
    "Categorize the ages"
   ]
  },
  {
   "cell_type": "code",
   "execution_count": 14,
   "id": "757b4851-64c3-44e6-9eda-2423abec30cd",
   "metadata": {},
   "outputs": [],
   "source": [
    "profilesLS=[]\n",
    "for row in profilesLSo:\n",
    "\ttmpLS=row\n",
    "\ttmpAGE=row[1]\n",
    "\n",
    "\tif tmpAGE < 25:\n",
    "\t\ttmpLS[1]=1\n",
    "\telif tmpAGE < 35:\n",
    "\t\ttmpLS[1]=2\n",
    "\telif tmpAGE < 50:\n",
    "\t\ttmpLS[1]=3\n",
    "\telse:\n",
    "\t\ttmpLS[1]=4\n",
    "\n",
    "\tprofilesLS.append(tmpLS)"
   ]
  },
  {
   "cell_type": "markdown",
   "id": "1eb5f582-2737-4941-88af-632c264c9a0d",
   "metadata": {},
   "source": [
    " Align the profiles data with the indexing of the likes data"
   ]
  },
  {
   "cell_type": "code",
   "execution_count": 15,
   "id": "20db2881-739c-4b99-b594-b5a19b4afbb1",
   "metadata": {},
   "outputs": [],
   "source": [
    "profsTOlikes=[]\n",
    "for i in range(len(profilesLS)):\n",
    "\tprofsTOlikes.append([])\n",
    "\n",
    "for row in profilesLS:\n",
    "\ttmpIND = unqLikesUIDs.index(row[0])\n",
    "\tprofsTOlikes[tmpIND]=row\n",
    "\n",
    "profsTOlikes1=list(map(list, zip(*profsTOlikes)))"
   ]
  },
  {
   "cell_type": "markdown",
   "id": "e74a71df-7f57-4cf4-b2c3-6e3d11a20966",
   "metadata": {},
   "source": [
    "Export the transformed profiles data for possible later use"
   ]
  },
  {
   "cell_type": "code",
   "execution_count": 19,
   "id": "d907a8b5-f3ff-453d-9ede-dfcb3df6cca5",
   "metadata": {},
   "outputs": [],
   "source": [
    "pickle.dump(profsTOlikes1, open(\"profsTOlikes1.pkl\",\"wb\"))"
   ]
  },
  {
   "cell_type": "markdown",
   "id": "a54da659-a765-4723-aff4-cda08a259aaf",
   "metadata": {},
   "source": [
    "#### 1.2.1) Extract Data for AGEs"
   ]
  },
  {
   "cell_type": "code",
   "execution_count": 20,
   "id": "6ba04099-4a2d-40fe-9a45-546601b6eaf8",
   "metadata": {},
   "outputs": [],
   "source": [
    "agesARRo=np.array(profsTOlikes1[1])\n",
    "agesARRo=agesARRo.tolist()"
   ]
  },
  {
   "cell_type": "markdown",
   "id": "8ca0fd81-3126-4ae5-b868-d5a73c33799a",
   "metadata": {},
   "source": [
    "Convert data for AGEs to binary vectors"
   ]
  },
  {
   "cell_type": "code",
   "execution_count": 21,
   "id": "8970bd01-1f56-4d72-9666-eacc4946e0c5",
   "metadata": {},
   "outputs": [],
   "source": [
    "agesARR = []\n",
    "for row in agesARRo:\n",
    "\tif row==1:\n",
    "\t\tagesARR.append([1,0,0,0])\n",
    "\telif row==2:\n",
    "\t\tagesARR.append([0,1,0,0])\n",
    "\telif row==3:\n",
    "\t\tagesARR.append([0,0,1,0])\n",
    "\telse:\n",
    "\t\tagesARR.append([0,0,0,1])\n",
    "\n",
    "agesARR=np.array(agesARR)"
   ]
  },
  {
   "cell_type": "markdown",
   "id": "f5f969e1-36be-4cd4-9dd5-e80d39359d01",
   "metadata": {},
   "source": [
    "Export the transformed ages data"
   ]
  },
  {
   "cell_type": "code",
   "execution_count": 22,
   "id": "70a76b85-1ec3-45da-a223-88113c9d7c1f",
   "metadata": {},
   "outputs": [],
   "source": [
    "pickle.dump(agesARR, open(\"agesARR.pkl\",\"wb\"))"
   ]
  },
  {
   "cell_type": "markdown",
   "id": "0b550e03-f304-4dd6-b924-11228e6b4515",
   "metadata": {},
   "source": [
    "#### 1.2.2) Extract Data for SEXes"
   ]
  },
  {
   "cell_type": "code",
   "execution_count": 23,
   "id": "a233c1aa-caa9-4b3e-a014-d41e2547486f",
   "metadata": {},
   "outputs": [],
   "source": [
    "sexsARR=np.array(profsTOlikes1[2])"
   ]
  },
  {
   "cell_type": "markdown",
   "id": "d8e88c3d-b647-44ca-8c0d-75f215d453ad",
   "metadata": {},
   "source": [
    "Export the transformed sexes data"
   ]
  },
  {
   "cell_type": "code",
   "execution_count": 24,
   "id": "efc2891a-7387-4b73-aa3f-50a35cd4d30a",
   "metadata": {},
   "outputs": [],
   "source": [
    "pickle.dump(sexsARR, open(\"sexsARR.pkl\",\"wb\"))"
   ]
  },
  {
   "cell_type": "code",
   "execution_count": null,
   "id": "a75087f5-767d-4e6e-9d56-5cf72090d03d",
   "metadata": {},
   "outputs": [],
   "source": []
  }
 ],
 "metadata": {
  "kernelspec": {
   "display_name": "keras_torch",
   "language": "python",
   "name": "keras_torch"
  },
  "language_info": {
   "codemirror_mode": {
    "name": "ipython",
    "version": 3
   },
   "file_extension": ".py",
   "mimetype": "text/x-python",
   "name": "python",
   "nbconvert_exporter": "python",
   "pygments_lexer": "ipython3",
   "version": "3.11.2"
  }
 },
 "nbformat": 4,
 "nbformat_minor": 5
}
