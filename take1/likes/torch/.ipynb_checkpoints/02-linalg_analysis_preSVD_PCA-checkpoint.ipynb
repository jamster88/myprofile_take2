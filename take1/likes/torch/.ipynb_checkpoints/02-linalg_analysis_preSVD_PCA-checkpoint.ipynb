{
 "cells": [
  {
   "cell_type": "code",
   "execution_count": 1,
   "id": "08060b87-a1ae-4dc8-b65e-c44b2531b16b",
   "metadata": {},
   "outputs": [
    {
     "name": "stdout",
     "output_type": "stream",
     "text": [
      "cuda\n"
     ]
    }
   ],
   "source": [
    "import pickle\n",
    "import numpy as np\n",
    "import pandas as pd\n",
    "from scipy import linalg, sparse\n",
    "from sklearn.model_selection import train_test_split\n",
    "from torch.utils.data import TensorDataset\n",
    "import torch\n",
    "\n",
    "device = torch.device('cuda' if torch.cuda.is_available() else 'cpu')\n",
    "print(device)"
   ]
  },
  {
   "cell_type": "code",
   "execution_count": 2,
   "id": "df5f7ad2-0439-4973-92f3-a0da3575d4d5",
   "metadata": {},
   "outputs": [],
   "source": [
    "import matplotlib.pyplot as pp\n",
    "from sklearn.decomposition import TruncatedSVD, PCA\n",
    "from scipy.sparse import csr_matrix\n",
    "from sklearn.preprocessing import StandardScaler"
   ]
  },
  {
   "cell_type": "markdown",
   "id": "bfbb5c81-df10-47b6-8b75-a4979633dd45",
   "metadata": {},
   "source": [
    "## 02 - Analyze the data to determine the *k*-value to use for SVD and PCA\n",
    "\n",
    "Determine the *k*-value to use for the SVD and PCA dimensional reductions"
   ]
  },
  {
   "cell_type": "markdown",
   "id": "084dffa9-ecc5-4bab-8dcc-e1774e2f5a88",
   "metadata": {},
   "source": [
    "### 2.1) Import Preprocessed data from step 1\n",
    "\n",
    "Import the likes data"
   ]
  },
  {
   "cell_type": "code",
   "execution_count": 3,
   "id": "0fee66f9-a5d5-4218-85ba-cec9ac1ab951",
   "metadata": {},
   "outputs": [
    {
     "data": {
      "text/plain": [
       "(9500, 536204)"
      ]
     },
     "execution_count": 3,
     "metadata": {},
     "output_type": "execute_result"
    }
   ],
   "source": [
    "likesMAT = pickle.load(open(\"likesMAT.pkl\",\"rb\"))\n",
    "likesMAT.shape"
   ]
  },
  {
   "cell_type": "markdown",
   "id": "51b8cfa8-8cd0-49fb-9c6e-777c79a08409",
   "metadata": {},
   "source": [
    "Import the ages data"
   ]
  },
  {
   "cell_type": "code",
   "execution_count": 4,
   "id": "922a3bf3-b5ff-4fd0-8003-751285332ea1",
   "metadata": {},
   "outputs": [
    {
     "data": {
      "text/plain": [
       "(9500, 4)"
      ]
     },
     "execution_count": 4,
     "metadata": {},
     "output_type": "execute_result"
    }
   ],
   "source": [
    "agesARR = pickle.load(open(\"agesARR.pkl\", \"rb\"))\n",
    "agesARR.shape"
   ]
  },
  {
   "cell_type": "markdown",
   "id": "d0053cff-3985-4415-b9cc-269228f25da2",
   "metadata": {},
   "source": [
    "Do a train/test split"
   ]
  },
  {
   "cell_type": "code",
   "execution_count": 5,
   "id": "07cbe87d-80a7-4b2b-8da2-39c8f49de3d1",
   "metadata": {},
   "outputs": [],
   "source": [
    "train_likesMAT, test_likesMAT, train_agesARR, test_agesARR = train_test_split(likesMAT, agesARR, test_size=0.05, random_state=42)"
   ]
  },
  {
   "cell_type": "markdown",
   "id": "52a7abde-8129-461e-b324-14cd8ce3e443",
   "metadata": {},
   "source": [
    "### 2.2) Compute eigenvalues\n",
    "\n",
    "First, get a square matrix of the smallest dimension"
   ]
  },
  {
   "cell_type": "code",
   "execution_count": 6,
   "id": "3fe68170-dc35-4625-b1d7-3e3546b1433b",
   "metadata": {},
   "outputs": [
    {
     "data": {
      "text/plain": [
       "(9025, 9025)"
      ]
     },
     "execution_count": 6,
     "metadata": {},
     "output_type": "execute_result"
    }
   ],
   "source": [
    "sq_likesMAT_1 = np.dot(train_likesMAT, train_likesMAT.T)\n",
    "sq_likesMAT_1.shape"
   ]
  },
  {
   "cell_type": "markdown",
   "id": "9e352a24-ddee-4688-be58-f7e7dea87a00",
   "metadata": {},
   "source": [
    "Convert the square matrix to a Torch tensor and move to GPU"
   ]
  },
  {
   "cell_type": "code",
   "execution_count": 7,
   "id": "679d913a-ec5a-4762-af11-ce7e49133bbf",
   "metadata": {},
   "outputs": [],
   "source": [
    "tensor_sq_likesMAT = torch.Tensor(sq_likesMAT_1.todense()) \\\n",
    "                            .to(torch.float) \\\n",
    "                            .cuda()"
   ]
  },
  {
   "cell_type": "markdown",
   "id": "1c73b425-3777-475d-bf99-e7a4f7583959",
   "metadata": {},
   "source": [
    "Compute the eigenvalues on the GPU, cast to reals only (*there should be no imaginary parts*), return to the CPU, and convert to a 1D numpy array"
   ]
  },
  {
   "cell_type": "code",
   "execution_count": 8,
   "id": "8cd2ee4d-b6c9-4637-8648-2ccd45d5e6b6",
   "metadata": {},
   "outputs": [
    {
     "name": "stdout",
     "output_type": "stream",
     "text": [
      "[6.4116262e+04 2.2268875e+04 9.1154453e+03 ... 7.0000000e+00 8.0000000e+00\n",
      " 4.0000000e+00]\n"
     ]
    },
    {
     "name": "stderr",
     "output_type": "stream",
     "text": [
      "/tmp/ipykernel_1062/2434637442.py:3: UserWarning: Casting complex values to real discards the imaginary part (Triggered internally at ../aten/src/ATen/native/Copy.cpp:305.)\n",
      "  sq_likesMAT_evals = tensor_sq_likesMAT_evals.eigenvalues.to(torch.float32).cpu().numpy()\n"
     ]
    }
   ],
   "source": [
    "tensor_sq_likesMAT_evals = torch.linalg.eig(tensor_sq_likesMAT)\n",
    "\n",
    "sq_likesMAT_evals = tensor_sq_likesMAT_evals.eigenvalues.to(torch.float32).cpu().numpy()\n",
    "print(sq_likesMAT_evals)"
   ]
  },
  {
   "cell_type": "markdown",
   "id": "78a9418a-a1d5-4a50-905f-489dd50c5fa8",
   "metadata": {},
   "source": [
    "Clean-up GPU VRAM to preserve available space to work"
   ]
  },
  {
   "cell_type": "code",
   "execution_count": 9,
   "id": "ee1f22ed-5ed7-4314-a6fb-94de788567a3",
   "metadata": {},
   "outputs": [],
   "source": [
    "del tensor_sq_likesMAT_evals\n",
    "del tensor_sq_likesMAT\n",
    "\n",
    "torch.cuda.empty_cache()"
   ]
  },
  {
   "cell_type": "markdown",
   "id": "59e51dd1-7971-4bb0-948f-2420b1f735f5",
   "metadata": {},
   "source": [
    "Print the last hundred of so eigenvalues"
   ]
  },
  {
   "cell_type": "code",
   "execution_count": 10,
   "id": "3c4b23d6-b2fb-472c-b7e1-b328ffad7be9",
   "metadata": {},
   "outputs": [
    {
     "name": "stdout",
     "output_type": "stream",
     "text": [
      "[ 1400.53    1404.5615  1406.653   1418.6724  1424.9868  1429.432\n",
      "  1435.7968  1442.3325  1446.1686  1452.7064  1465.6051  1468.512\n",
      "  1469.8342  1476.0448  1484.3668  1485.9348  1494.8766  1497.2162\n",
      "  1503.8088  1511.5101  1515.6145  1524.5825  1534.0132  1544.6715\n",
      "  1547.1128  1557.6613  1563.7852  1572.2664  1580.386   1584.229\n",
      "  1588.0059  1601.7754  1613.5876  1616.9652  1628.135   1628.884\n",
      "  1639.8164  1647.7877  1668.0535  1675.874   1683.4819  1690.4858\n",
      "  1700.4657  1706.6239  1716.591   1717.2465  1728.7982  1742.918\n",
      "  1744.665   1757.3053  1760.6826  1761.6453  1769.3381  1780.153\n",
      "  1783.9578  1793.5984  1814.6724  1828.3401  1837.3528  1851.0038\n",
      "  1868.3198  1875.0363  1881.5725  1896.0278  1905.6833  1911.5977\n",
      "  1913.7684  1946.7308  1954.7394  1987.2482  1993.2926  2015.8531\n",
      "  2020.4531  2037.6426  2042.454   2058.4463  2072.9656  2101.6292\n",
      "  2135.2285  2171.2825  2181.7717  2189.6897  2210.1108  2236.9036\n",
      "  2249.4136  2284.7175  2299.6833  2329.0076  2356.223   2372.6323\n",
      "  2375.2454  2395.3794  2437.7507  2456.2935  2483.62    2514.4287\n",
      "  2574.1538  2586.6914  2595.5723  2605.2405  2681.4373  2710.2637\n",
      "  2752.109   2784.3494  2871.192   2899.5964  2967.6348  3017.1755\n",
      "  3171.2654  3279.1243  3390.5537  3466.3074  3530.4294  3648.3025\n",
      "  3966.3252  3989.679   4455.5806  4797.015   4984.      5313.154\n",
      "  5732.9023  5961.194   9115.445  22268.875  64116.26  ]\n"
     ]
    }
   ],
   "source": [
    "print(np.sort(sq_likesMAT_evals)[8900:])"
   ]
  },
  {
   "cell_type": "markdown",
   "id": "ea9816a4-8420-438a-8d17-348725765bb4",
   "metadata": {},
   "source": [
    "Plot the eigenvalues in order of magnitude"
   ]
  },
  {
   "cell_type": "code",
   "execution_count": 11,
   "id": "02fbc5d3-4bfb-4d04-bcdb-9034b61f3868",
   "metadata": {},
   "outputs": [
    {
     "data": {
      "image/png": "[encoded data removed]",
      "text/plain": [
       "<Figure size 640x480 with 1 Axes>"
      ]
     },
     "metadata": {},
     "output_type": "display_data"
    }
   ],
   "source": [
    "ind_to_start = 4000 #8050\n",
    "pp.plot(np.asarray(range(np.unique(sq_likesMAT_evals)[ind_to_start:].shape[0])), np.sort(np.unique(sq_likesMAT_evals))[ind_to_start:], 'x')\n",
    "pp.show()"
   ]
  },
  {
   "cell_type": "markdown",
   "id": "5c56e137-5e2c-4de5-9881-e9401a1d9164",
   "metadata": {},
   "source": [
    "Calculate the deltas between eigenvalues and print the last hundred or so"
   ]
  },
  {
   "cell_type": "code",
   "execution_count": 12,
   "id": "1e75ca79-b14b-4d53-a2d5-b7aab07db8f5",
   "metadata": {},
   "outputs": [
    {
     "data": {
      "text/plain": [
       "(9024,)"
      ]
     },
     "execution_count": 12,
     "metadata": {},
     "output_type": "execute_result"
    }
   ],
   "source": [
    "sq_likesMAT_evals_deltas = []\n",
    "for i in range(1, sq_likesMAT_evals.shape[0]):\n",
    "    sq_likesMAT_evals_deltas.append(np.sort(sq_likesMAT_evals)[i] - np.sort(sq_likesMAT_evals)[i-1])\n",
    "\n",
    "sq_likesMAT_evals_deltas = np.asarray(sq_likesMAT_evals_deltas)\n",
    "sq_likesMAT_evals_deltas.shape"
   ]
  },
  {
   "cell_type": "code",
   "execution_count": 13,
   "id": "a9f0d5ad-8c30-4a78-aa8e-bbf2cd11549e",
   "metadata": {},
   "outputs": [
    {
     "data": {
      "text/plain": [
       "(7854,)"
      ]
     },
     "execution_count": 13,
     "metadata": {},
     "output_type": "execute_result"
    }
   ],
   "source": [
    "np.unique(sq_likesMAT_evals_deltas).shape"
   ]
  },
  {
   "cell_type": "markdown",
   "id": "73e20b2e-a9a8-4ac7-b774-d9d284dde216",
   "metadata": {},
   "source": [
    "Print out the top values"
   ]
  },
  {
   "cell_type": "code",
   "execution_count": 14,
   "id": "a648ffd8-c6f3-4efa-af78-826c359f55e3",
   "metadata": {},
   "outputs": [
    {
     "name": "stdout",
     "output_type": "stream",
     "text": [
      "[5.0063477e+00 5.0427246e+00 5.0948486e+00 5.1510010e+00 5.2489624e+00\n",
      " 5.3062744e+00 5.3186035e+00 5.3583984e+00 5.3673096e+00 5.4064941e+00\n",
      " 5.5139160e+00 5.5185547e+00 5.6945801e+00 5.9143066e+00 6.0444336e+00\n",
      " 6.1239014e+00 6.1582031e+00 6.2105713e+00 6.3144531e+00 6.3647461e+00\n",
      " 6.5357666e+00 6.5362549e+00 6.5378418e+00 6.5926514e+00 6.7164307e+00\n",
      " 6.8741455e+00 6.9803467e+00 6.9866943e+00 7.0039062e+00 7.1979980e+00\n",
      " 7.4671631e+00 7.4783936e+00 7.6079102e+00 7.6928711e+00 7.7012939e+00\n",
      " 7.7105713e+00 7.8205566e+00 7.9179688e+00 7.9713135e+00 8.0085449e+00\n",
      " 8.1196289e+00 8.3220215e+00 8.4812012e+00 8.6141357e+00 8.7197266e+00\n",
      " 8.8808594e+00 8.9417725e+00 8.9680176e+00 9.0126953e+00 9.4306641e+00\n",
      " 9.6406250e+00 9.6555176e+00 9.6682129e+00 9.9670410e+00 9.9798584e+00\n",
      " 1.0116943e+01 1.0489258e+01 1.0548462e+01 1.0658325e+01 1.0814819e+01\n",
      " 1.0932373e+01 1.1169800e+01 1.1551758e+01 1.1812256e+01 1.2019409e+01\n",
      " 1.2510010e+01 1.2537598e+01 1.2640259e+01 1.2898682e+01 1.3651001e+01\n",
      " 1.3667725e+01 1.3769531e+01 1.4119751e+01 1.4455322e+01 1.4519287e+01\n",
      " 1.4965820e+01 1.5992310e+01 1.6409424e+01 1.7189453e+01 1.7316040e+01\n",
      " 1.8542725e+01 2.0134033e+01 2.0265747e+01 2.0421143e+01 2.1073975e+01\n",
      " 2.2560547e+01 2.3353760e+01 2.6792725e+01 2.7215332e+01 2.7326660e+01\n",
      " 2.8404541e+01 2.8663574e+01 2.8826416e+01 2.9324219e+01 3.0808594e+01\n",
      " 3.2240479e+01 3.2508789e+01 3.2962402e+01 3.3599365e+01 3.5303955e+01\n",
      " 3.6053955e+01 4.1845215e+01 4.2371338e+01 4.9540771e+01 5.9725098e+01\n",
      " 6.4122070e+01 6.8038330e+01 7.5753662e+01 7.6196777e+01 8.6842529e+01\n",
      " 1.0785889e+02 1.1142944e+02 1.1787305e+02 1.5408984e+02 1.8698486e+02\n",
      " 2.2829150e+02 3.1802271e+02 3.2915381e+02 3.4143457e+02 4.1974854e+02\n",
      " 4.6590161e+02 3.1542515e+03 1.3153430e+04 4.1847387e+04]\n"
     ]
    },
    {
     "data": {
      "text/plain": [
       "(124,)"
      ]
     },
     "execution_count": 14,
     "metadata": {},
     "output_type": "execute_result"
    }
   ],
   "source": [
    "print(np.sort(sq_likesMAT_evals_deltas)[8900:])\n",
    "np.sort(sq_likesMAT_evals_deltas)[8900:].shape"
   ]
  },
  {
   "cell_type": "markdown",
   "id": "ba322062-ecf2-47bc-8534-94ab5be65016",
   "metadata": {},
   "source": [
    "Plot the eigenvalue deltas in order of magnitude"
   ]
  },
  {
   "cell_type": "code",
   "execution_count": 15,
   "id": "8fa1604e-9c60-4414-8726-a680926d7a3b",
   "metadata": {},
   "outputs": [
    {
     "data": {
      "image/png": "[encoded data removed]",
      "text/plain": [
       "<Figure size 640x480 with 1 Axes>"
      ]
     },
     "metadata": {},
     "output_type": "display_data"
    }
   ],
   "source": [
    "ind_to_start = 2000\n",
    "pp.plot(np.asarray(range(sq_likesMAT_evals_deltas[ind_to_start:].shape[0])), np.sort(sq_likesMAT_evals_deltas)[ind_to_start:], 'x')\n",
    "pp.show()"
   ]
  },
  {
   "cell_type": "markdown",
   "id": "361d6856-c4aa-48d4-8afd-32f3131255c5",
   "metadata": {},
   "source": [
    "### 2.3) Compute PCA stuff\n",
    "\n",
    "PCA requires scaling our inputs, so we have"
   ]
  },
  {
   "cell_type": "code",
   "execution_count": 16,
   "id": "748c390e-d2a2-4b8c-b9eb-77216093c147",
   "metadata": {},
   "outputs": [],
   "source": [
    "scaler = StandardScaler(with_mean=False)\n",
    "train_likesMAT_std = scaler.fit_transform(train_likesMAT)\n",
    "test_likesMAT_std = scaler.transform(test_likesMAT)"
   ]
  },
  {
   "cell_type": "markdown",
   "id": "a06d31c0-a955-460d-881c-60e8a34dc32e",
   "metadata": {},
   "source": [
    "Apply PCA"
   ]
  },
  {
   "cell_type": "code",
   "execution_count": null,
   "id": "6c0299ae-c5fb-4d08-9ffb-94c48c6e2611",
   "metadata": {},
   "outputs": [],
   "source": [
    "pca = PCA(n_components=4002)\n",
    "# pca = PCA()\n",
    "train_likesMAT_pca = pca.fit_transform(train_likesMAT_std)\n",
    "\n",
    "# Calculate the cumulative explained variance\n",
    "cumulative_variance_ratio = np.cumsum(pca.explained_variance_ratio_)\n",
    "\n",
    "# Determine the number of components to keep for 85% variance explained\n",
    "n_components = np.argmax(cumulative_variance_ratio >= 0.85) + 1"
   ]
  },
  {
   "cell_type": "code",
   "execution_count": null,
   "id": "3160f869-7e40-4a19-b566-e9ebe2eb8d90",
   "metadata": {},
   "outputs": [],
   "source": [
    "print(n_components)"
   ]
  },
  {
   "cell_type": "code",
   "execution_count": null,
   "id": "191b29e3-176f-4010-964f-14bd74ded84a",
   "metadata": {},
   "outputs": [],
   "source": [
    "print(cumulative_variance_ratio)"
   ]
  },
  {
   "cell_type": "code",
   "execution_count": null,
   "id": "5bb0b113-d53e-43db-8bef-394200efad26",
   "metadata": {},
   "outputs": [],
   "source": [
    "len(cumulative_variance_ratio)"
   ]
  },
  {
   "cell_type": "code",
   "execution_count": null,
   "id": "54143222-1886-4507-a897-e2ba1ccfa952",
   "metadata": {},
   "outputs": [],
   "source": [
    "print(max(cumulative_variance_ratio))\n",
    "print(cumulative_variance_ratio[3750:])"
   ]
  },
  {
   "cell_type": "code",
   "execution_count": null,
   "id": "a3e89c0f-0acc-42f4-9d1d-1b5a8b9f60a2",
   "metadata": {},
   "outputs": [],
   "source": []
  },
  {
   "cell_type": "code",
   "execution_count": null,
   "id": "945279ae-bc96-4cfd-99b2-f760faa73abe",
   "metadata": {},
   "outputs": [],
   "source": []
  }
 ],
 "metadata": {
  "kernelspec": {
   "display_name": "keras_torch",
   "language": "python",
   "name": "keras_torch"
  },
  "language_info": {
   "codemirror_mode": {
    "name": "ipython",
    "version": 3
   },
   "file_extension": ".py",
   "mimetype": "text/x-python",
   "name": "python",
   "nbconvert_exporter": "python",
   "pygments_lexer": "ipython3",
   "version": "3.11.2"
  }
 },
 "nbformat": 4,
 "nbformat_minor": 5
}
